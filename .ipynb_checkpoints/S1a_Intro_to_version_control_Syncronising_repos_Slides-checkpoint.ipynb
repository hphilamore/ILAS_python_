{
 "cells": [
  {
   "cell_type": "code",
   "execution_count": 1,
   "metadata": {},
   "outputs": [
    {
     "data": {
      "text/html": [
       "<style>\n",
       "\n",
       "body {\n",
       " counter-reset: h2counter;\n",
       "}\n",
       "h1 {\n",
       " counter-reset: h2counter;\n",
       "}\n",
       "h2:before {\n",
       " content: counter(h2counter) \".\\0000a0\\0000a0\";\n",
       " counter-increment: h2counter;\n",
       " counter-reset: h3counter;\n",
       "}\n",
       "\n",
       "\n",
       "</style>\n"
      ],
      "text/plain": [
       "<IPython.core.display.HTML object>"
      ]
     },
     "execution_count": 1,
     "metadata": {},
     "output_type": "execute_result"
    }
   ],
   "source": [
    "from IPython.core.display import HTML\n",
    "def css_styling():\n",
    "    styles = open(\"./styles/custom.css\", \"r\").read()\n",
    "    return HTML(styles)\n",
    "css_styling()"
   ]
  },
  {
   "cell_type": "markdown",
   "metadata": {},
   "source": [
    "# Introduction to Version Control: <br>Syncronising Repositories\n",
    "\n",
    "This tutorial will teach you the first part to sycroninsing your online (remote) and local repositories. \n",
    "\n",
    "We will run through the instructions in S1_Introduction_to_version_control.ipynb sections:\n",
    "\n",
    "- Creating a Local Repository on your Personal Computer.\n",
    "- Syncronising Repositories"
   ]
  },
  {
   "cell_type": "markdown",
   "metadata": {},
   "source": [
    "## Creating a Local Repository on your Personal Computer\n",
    "\n",
    "In addition to the local copy of the textbook you have stored on the Kyoto University M drive, you are going to make a local copy of the interactive textbook on your personal computer so that you can make and save changes.\n",
    "\n",
    "e.g. when doing your homework."
   ]
  },
  {
   "cell_type": "markdown",
   "metadata": {},
   "source": [
    "This is the same process as when you initially *cloned* the textbook from the ILAS_python online repository, except this time you will clone the textbook from your personal GitHub repository.\n",
    "\n",
    "You may use you personal computer for this exercise.\n",
    "\n",
    "You may borrow a laptop to complete the exercise but you MUST repeat it on your personal computer before the next seminar.\n",
    "\n",
    "The computer you are using __must have Git and Jupyter notebook installed.__ "
   ]
  },
  {
   "cell_type": "markdown",
   "metadata": {
    "collapsed": true
   },
   "source": [
    "Open the terminal:\n",
    "\n",
    "__On Windows:__\n",
    " - press \"win key\" + \"R\"\n",
    " - type: __cmd__\n",
    " - press enter\n",
    " \n",
    " __On Mac:__\n",
    " - Open the \"Terminal\" application \n",
    " \n",
    " __On Linux:__\n",
    " - Open the \"Terminal\" application \n",
    " \n",
    "or\n",
    " \n",
    " - press \"Ctrl\" + \"Alt\" + \"T\"\n",
    " \n",
    "Using `cd`, navigate to where you want the folder containing the textbook to appear. "
   ]
  },
  {
   "cell_type": "code",
   "execution_count": null,
   "metadata": {
    "collapsed": true
   },
   "outputs": [],
   "source": [
    "In a web browswer, open your personal Github page that you created earlier. \n",
    "\n",
    "Navigate to the online repository to which you uploaded the textbook. \n",
    "\n",
    "*Note that you can view the textbook online on the GitHub site.*\n",
    "\n",
    "Click the button \"Clone or download\" and copy the link by presssing Ctrl , C\n",
    "\n",
    "<img src=\"../../../ILAS_seminars/intro to python/img/clone-url.png\" alt=\"Drawing\" style=\"width: 500px;\"/>"
   ]
  },
  {
   "cell_type": "code",
   "execution_count": null,
   "metadata": {
    "collapsed": true
   },
   "outputs": [],
   "source": [
    "In the terminal type `git clone`. After the word `clone` leave a space and then paste the URL that you just copied.:\n",
    "\n",
    "> `git clone` [PASTE COPIED URL HERE]\n",
    "\n",
    "In the terminal type:\n",
    "\n",
    "> `dir`\n",
    "\n",
    "A folder called \"ILAS_python\" should have appeared. \n",
    "\n",
    "Go into the folder and view the content by typing:\n",
    "\n",
    ">`cd ILAS_python`\n",
    "><br>`dir`  "
   ]
  },
  {
   "cell_type": "markdown",
   "metadata": {},
   "source": [
    "You can now open the notebooks stored in the repository in Jupyter Notebook to complete your homework. \n",
    "\n",
    "Let's try this now....\n",
    "\n",
    "\n"
   ]
  },
  {
   "cell_type": "markdown",
   "metadata": {},
   "source": [
    "On your personal computer, open the notebook that you have been working on today: \n",
    "<br>__1_Data_types_and_operators.ipynb__, \n",
    "<br>using Jupyter notebook. \n",
    "\n",
    "Make a small change.\n",
    "\n",
    "It can be anything.\n",
    "\n",
    "e.g. write your name in one of the cells\n",
    "\n",
    "Save the notebook by clicking the button in the top left of this window.\n",
    "\n",
    "<img src=\"../../../ILAS_seminars/intro to python/img/Jupytersave.png\" alt=\"Drawing\" style=\"width: 300px;\"/>\n"
   ]
  },
  {
   "cell_type": "markdown",
   "metadata": {},
   "source": [
    "## Syncronising Repositories\n",
    "\n",
    " You now have three repositiories.\n",
    " <br>__Two Local Repositories__\n",
    " - Kyoto Univeristy M drive\n",
    " - your personal computer\n",
    " \n",
    " \n",
    "<br>__One Online Repository__\n",
    " - GitHub\n",
    " \n",
    "Each repository contains a copy of the interactive Python textbook.\n",
    "\n"
   ]
  },
  {
   "cell_type": "markdown",
   "metadata": {},
   "source": [
    "We want to keep the three repositories *syncronised*. \n",
    "\n",
    "The version of the textbook in each repository should be the same. \n",
    "\n",
    "When we make changes to the textbook, the changes should be added to both the online repository and the other local repository.\n",
    "\n"
   ]
  },
  {
   "cell_type": "markdown",
   "metadata": {},
   "source": [
    "The online repository can be accessed from either a Kyoto University computer or your personal computer. \n",
    "\n",
    "It is less easy for the two local repositories to access each other.\n",
    "\n",
    "Therefore we will use GitHub as a central repository that we use to pass changes between the two local repositories. \n",
    "\n",
    "<img src=\"img/syncing_repos.png\" alt=\"Drawing\" style=\"width: 300px;\"/>"
   ]
  },
  {
   "cell_type": "markdown",
   "metadata": {},
   "source": [
    "### Pushing and Pulling\n",
    "\n",
    "This syncronisation is done using the Git commands __`push`__ and __`pull`__.\n",
    "\n",
    "When you have competed your homework on your personal computer, you __`push`__ the changes to GitHub.\n",
    "\n",
    "<img src=\"img/syncing_repos_home_push.png\" alt=\"Drawing\" style=\"width: 300px;\"/>"
   ]
  },
  {
   "cell_type": "markdown",
   "metadata": {},
   "source": [
    "We use the process we have already learnt to push changes from a local repository to our online repository.\n",
    "\n",
    "Let's recap...."
   ]
  },
  {
   "cell_type": "markdown",
   "metadata": {},
   "source": [
    "#### Pushing Changes to an Online Repository\n",
    "\n",
    "On your personal computer, open a terminal:\n",
    "\n",
    ">__On Windows:__\n",
    "> - press \"win key\" + \"R\"\n",
    "> - type: __cmd__\n",
    "> - press enter\n",
    "> \n",
    "> __On Mac:__\n",
    "> - Open the \"Terminal\" application \n",
    "> \n",
    "> __On Linux:__\n",
    "> - Open the \"Terminal\" application \n",
    " \n",
    ">or\n",
    " \n",
    "> - press \"Ctrl\" + \"Alt\" + \"T\"\n",
    " \n"
   ]
  },
  {
   "cell_type": "markdown",
   "metadata": {},
   "source": [
    "Using `cd`, navigate to where you want the folder containing the textbook to appear. \n",
    "\n",
    "In the terminal type:\n",
    ">`git add -A`\n",
    ">`git commit -m \"A short message explaining your changes\"`\n",
    ">`git push origin master`\n",
    "    \n",
    "Enter your GitHub login details when prompted. \n",
    "\n",
    "Your online remote repository should now have been updated.\n",
    "\n",
    "View the file __1_Data_types_and_operators.ipynb__ to see the change you just made. "
   ]
  }
 ],
 "metadata": {
  "kernelspec": {
   "display_name": "env",
   "language": "python",
   "name": "env"
  },
  "language_info": {
   "codemirror_mode": {
    "name": "ipython",
    "version": 3
   },
   "file_extension": ".py",
   "mimetype": "text/x-python",
   "name": "python",
   "nbconvert_exporter": "python",
   "pygments_lexer": "ipython3",
   "version": "3.5.3"
  }
 },
 "nbformat": 4,
 "nbformat_minor": 2
}
