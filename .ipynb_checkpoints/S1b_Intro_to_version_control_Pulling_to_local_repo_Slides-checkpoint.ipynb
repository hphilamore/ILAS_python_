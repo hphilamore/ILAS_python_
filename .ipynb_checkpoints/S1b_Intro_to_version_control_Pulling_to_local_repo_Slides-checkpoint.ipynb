{
 "cells": [
  {
   "cell_type": "code",
   "execution_count": 1,
   "metadata": {},
   "outputs": [
    {
     "data": {
      "text/html": [
       "<style>\n",
       "\n",
       "body {\n",
       " counter-reset: h2counter;\n",
       "}\n",
       "h1 {\n",
       " counter-reset: h2counter;\n",
       "}\n",
       "h2:before {\n",
       " content: counter(h2counter) \".\\0000a0\\0000a0\";\n",
       " counter-increment: h2counter;\n",
       " counter-reset: h3counter;\n",
       "}\n",
       "\n",
       "\n",
       "</style>\n"
      ],
      "text/plain": [
       "<IPython.core.display.HTML object>"
      ]
     },
     "execution_count": 1,
     "metadata": {},
     "output_type": "execute_result"
    }
   ],
   "source": [
    "from IPython.core.display import HTML\n",
    "def css_styling():\n",
    "    styles = open(\"./styles/custom.css\", \"r\").read()\n",
    "    return HTML(styles)\n",
    "css_styling()"
   ]
  },
  {
   "cell_type": "markdown",
   "metadata": {},
   "source": [
    "# Introduction to Version Control:<br> Pulling Changes to a Local Repository\n",
    "\n"
   ]
  },
  {
   "cell_type": "markdown",
   "metadata": {},
   "source": [
    "You have now made changes to the interactive textbook at home (homework review exercises) and added them to your remote repository (GitHub).\n",
    "\n",
    "This tutorial will show you how to pull the changes from the remote repository to the local repository on the Kyoto University M drive. \n",
    "\n",
    "We will run through the instructions in S1_Introduction_to_version_control.ipynb, __Pulling Changes to a Local Repository__"
   ]
  },
  {
   "cell_type": "markdown",
   "metadata": {},
   "source": [
    "After commiting the changes made on your personal computer to GitHub (e.g. homework), \n",
    "<br>the next time you log on to a Kyoto University computer, the local repository will be *behind* (not up-to-date with):\n",
    "- the online repository on GitHub\n",
    "- the local repository on your personal computer\n",
    "\n",
    "\n"
   ]
  },
  {
   "cell_type": "markdown",
   "metadata": {},
   "source": [
    "You need to __pull__ the changes from the online repository to your local repository on the M drive.\n",
    "\n",
    "<img src=\"img/syncing_repos_home_to_class.png\" alt=\"Drawing\" style=\"width: 300px;\"/>"
   ]
  },
  {
   "cell_type": "code",
   "execution_count": null,
   "metadata": {
    "collapsed": true
   },
   "outputs": [],
   "source": [
    "Open a terminal.\n",
    "\n",
    "Using `cd`, navigate to *inside* the folder in which your textbook is stored. \n",
    "\n",
    "Type:\n",
    "\n",
    ">`git pull master`\n",
    "\n",
    "Enter your GitHub login details when prompted. "
   ]
  },
  {
   "cell_type": "code",
   "execution_count": null,
   "metadata": {
    "collapsed": true
   },
   "outputs": [],
   "source": [
    "The local repository on the M drive should have now been updated with the changes you made using your personal computer. "
   ]
  },
  {
   "cell_type": "code",
   "execution_count": null,
   "metadata": {
    "collapsed": true
   },
   "outputs": [],
   "source": [
    "At the end of the seminar, you will once again update the online reopsitory with the changes you make in-class.\n",
    "\n",
    "<img src=\"img/syncing_repos_class_push.png\" alt=\"Drawing\" style=\"width: 300px;\"/>"
   ]
  },
  {
   "cell_type": "markdown",
   "metadata": {},
   "source": [
    "When you get home you must __pull__  the changes before starting this week's homework. \n",
    "\n",
    "<img src=\"img/syncing_repos_class_to_home.png\" alt=\"Drawing\" style=\"width: 300px;\"/>"
   ]
  },
  {
   "cell_type": "markdown",
   "metadata": {},
   "source": [
    "#### Resolving  Clashes\n",
    "\n",
    "If the online repository is *ahead* of the local repository you are currently working on (ie. it has been updated from another repository), you are required to __pull__ the updates from the online repository to your current local repository before you can __push__ from the current local repository to the online repository. "
   ]
  },
  {
   "cell_type": "markdown",
   "metadata": {},
   "source": [
    "Therefore, it is best practise to always:\n",
    "- __push__ your changes at the end of a work session\n",
    "- __pull__ your changes at the begining of a work session"
   ]
  },
  {
   "cell_type": "markdown",
   "metadata": {},
   "source": [
    "If you begin working on a local repository *before* pulling the most recent changes, you may cause clashes between the version held locally and the version held online. "
   ]
  },
  {
   "cell_type": "markdown",
   "metadata": {},
   "source": [
    "When you pull the changes from online, these clashes create errors which can be difficult to resolve.\n",
    "<br>(*We will cover some possible solutions if/when clashes occur later in the course*)."
   ]
  },
  {
   "cell_type": "markdown",
   "metadata": {},
   "source": [
    "To avoid clashes:\n",
    "- stick to the fomat of the textbook and use the boxes provided when completeing your answers to the review questions (the importance of this is explained in the next section)\n",
    "- follow the __push__...__pull__...__push__... working format."
   ]
  }
 ],
 "metadata": {
  "kernelspec": {
   "display_name": "env",
   "language": "python",
   "name": "env"
  },
  "language_info": {
   "codemirror_mode": {
    "name": "ipython",
    "version": 3
   },
   "file_extension": ".py",
   "mimetype": "text/x-python",
   "name": "python",
   "nbconvert_exporter": "python",
   "pygments_lexer": "ipython3",
   "version": "3.5.3"
  }
 },
 "nbformat": 4,
 "nbformat_minor": 2
}
