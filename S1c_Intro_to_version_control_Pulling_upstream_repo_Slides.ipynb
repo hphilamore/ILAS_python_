{
 "cells": [
  {
   "cell_type": "code",
   "execution_count": 1,
   "metadata": {},
   "outputs": [
    {
     "data": {
      "text/html": [
       "<style>\n",
       "\n",
       "body {\n",
       " counter-reset: h2counter;\n",
       "}\n",
       "h1 {\n",
       " counter-reset: h2counter;\n",
       "}\n",
       "h2:before {\n",
       " content: counter(h2counter) \".\\0000a0\\0000a0\";\n",
       " counter-increment: h2counter;\n",
       " counter-reset: h3counter;\n",
       "}\n",
       "\n",
       "\n",
       "</style>\n"
      ],
      "text/plain": [
       "<IPython.core.display.HTML object>"
      ]
     },
     "execution_count": 1,
     "metadata": {},
     "output_type": "execute_result"
    }
   ],
   "source": [
    "from IPython.core.display import HTML\n",
    "def css_styling():\n",
    "    styles = open(\"./styles/custom.css\", \"r\").read()\n",
    "    return HTML(styles)\n",
    "css_styling()"
   ]
  },
  {
   "cell_type": "markdown",
   "metadata": {},
   "source": [
    "# Introduction to Version Control:<br>Pulling from an \"Uptream\" Repository \n",
    "### e.g Adding Review Exercise Solutions to your Textbook\n",
    "\n"
   ]
  },
  {
   "cell_type": "markdown",
   "metadata": {},
   "source": [
    "This tutorial will teach you to add a remote repository to your local repository <br>(in addition to the main remote repository we have been pushing to and pulling from). \n",
    "\n",
    "We will run through the instructions in S1_Introduction_to_version_control.ipynb, Pulling from an \"Uptream\" Repository e.g Adding Review Exercise Solutions to your Textbook."
   ]
  },
  {
   "cell_type": "markdown",
   "metadata": {},
   "source": [
    "## Pulling the Homework Solutions from an \"Uptream\" Repository\n",
    "\n",
    "Sometimes you may want to pull changes from an online repository other than your personal GitHub repository.\n",
    "\n",
    "For example, the original repository from which you cloned the textbook will change during the course: \n",
    "- example solutions to the previous seminars review exercisess will be added weekly.\n",
    "- new chapters will be added before the second half of the course begins. "
   ]
  },
  {
   "cell_type": "markdown",
   "metadata": {},
   "source": [
    "To __pull__ these changes, incorporating them into your local version of the textbook, you need to connect your local repository to the online repositories where these changes will be held. "
   ]
  },
  {
   "cell_type": "markdown",
   "metadata": {},
   "source": [
    "### Adding an Online Repository\n",
    "\n",
    "First check that your local and online repositories are syncronised by __pulling__ and __pushing__ as necessary.\n",
    "\n",
    "Open a terminal.\n",
    "\n",
    "Using `cd`, navigate to *inside* the folder in which your textbook is stored. "
   ]
  },
  {
   "cell_type": "markdown",
   "metadata": {
    "collapsed": true
   },
   "source": [
    "Type:\n",
    ">`git remote add upstream https://github.com/hphilamore/ILAS_python.git`\n",
    "\n",
    "We have connected (`remote add`) the online repository from which we originally cloned the textbook to our local repository and called it `upstream` to distinguish it from our main online repository, `origin`.\n",
    "\n",
    "Type:\n",
    ">`git fetch upstream`\n",
    ">`git merge upstream/master master`"
   ]
  },
  {
   "cell_type": "markdown",
   "metadata": {
    "collapsed": true
   },
   "source": [
    "Any changes made to the original version of the textbook should now be incorporated with your local version. \n",
    "\n",
    "\n",
    "*To avoid clashes between the two versions it is particularly important to __stick to the format of the textbook__ by __using the boxes provided__ when completeing your answers to the __review questions__.* "
   ]
  },
  {
   "cell_type": "markdown",
   "metadata": {
    "collapsed": true
   },
   "source": [
    "Lastly, remember to push your changes to your personal online repository.\n",
    "<br>Type:\n",
    ">`git push origin master`"
   ]
  },
  {
   "cell_type": "markdown",
   "metadata": {},
   "source": [
    "__NOTE:__ You only need to add the repository `upstream` once. Add this to the local repository on both your personal computer and the local repository on the Kyoto University system."
   ]
  },
  {
   "cell_type": "markdown",
   "metadata": {},
   "source": [
    "After the remote repository has been added, each time you want to pull changes from `upstream` to your local repository simply:\n",
    "- First check that your local and online repositories are syncronised by __pulling__ and __pushing__ as necessary.\n",
    "- Navigate to *inside* the folder in which your textbook is stored using the terminal. \n",
    "- Type:\n",
    ">`git fetch upstream`\n",
    ">`git merge upstream/master master`\n",
    ">`git push origin master`"
   ]
  },
  {
   "cell_type": "code",
   "execution_count": null,
   "metadata": {
    "collapsed": true
   },
   "outputs": [],
   "source": []
  },
  {
   "cell_type": "code",
   "execution_count": null,
   "metadata": {
    "collapsed": true
   },
   "outputs": [],
   "source": []
  }
 ],
 "metadata": {
  "kernelspec": {
   "display_name": "env",
   "language": "python",
   "name": "env"
  },
  "language_info": {
   "codemirror_mode": {
    "name": "ipython",
    "version": 3
   },
   "file_extension": ".py",
   "mimetype": "text/x-python",
   "name": "python",
   "nbconvert_exporter": "python",
   "pygments_lexer": "ipython3",
   "version": "3.5.3"
  }
 },
 "nbformat": 4,
 "nbformat_minor": 2
}
